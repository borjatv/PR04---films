{
 "cells": [
  {
   "cell_type": "code",
   "execution_count": 3,
   "metadata": {},
   "outputs": [],
   "source": [
    "import pandas as pd\n",
    "import re"
   ]
  },
  {
   "cell_type": "code",
   "execution_count": 4,
   "metadata": {},
   "outputs": [],
   "source": [
    "df = pd.read_csv('../PR03-project-web/pelistop.csv')"
   ]
  },
  {
   "cell_type": "code",
   "execution_count": 5,
   "metadata": {},
   "outputs": [
    {
     "name": "stdout",
     "output_type": "stream",
     "text": [
      "<class 'pandas.core.frame.DataFrame'>\n",
      "RangeIndex: 11508 entries, 0 to 11507\n",
      "Data columns (total 10 columns):\n",
      " #   Column       Non-Null Count  Dtype  \n",
      "---  ------       --------------  -----  \n",
      " 0   Unnamed: 0   11508 non-null  int64  \n",
      " 1   Título       11508 non-null  object \n",
      " 2   Año          11508 non-null  int64  \n",
      " 3   Director/es  11508 non-null  object \n",
      " 4   Reparto      11508 non-null  object \n",
      " 5   Género/s     11508 non-null  object \n",
      " 6   País         11508 non-null  object \n",
      " 7   Puntuación   11508 non-null  float64\n",
      " 8   Nº votos     11508 non-null  int64  \n",
      " 9   Tipo         11508 non-null  object \n",
      "dtypes: float64(1), int64(3), object(6)\n",
      "memory usage: 899.2+ KB\n"
     ]
    }
   ],
   "source": [
    "\n",
    "df.info()"
   ]
  },
  {
   "cell_type": "code",
   "execution_count": 6,
   "metadata": {
    "scrolled": true
   },
   "outputs": [
    {
     "data": {
      "text/html": [
       "<div>\n",
       "<style scoped>\n",
       "    .dataframe tbody tr th:only-of-type {\n",
       "        vertical-align: middle;\n",
       "    }\n",
       "\n",
       "    .dataframe tbody tr th {\n",
       "        vertical-align: top;\n",
       "    }\n",
       "\n",
       "    .dataframe thead th {\n",
       "        text-align: right;\n",
       "    }\n",
       "</style>\n",
       "<table border=\"1\" class=\"dataframe\">\n",
       "  <thead>\n",
       "    <tr style=\"text-align: right;\">\n",
       "      <th></th>\n",
       "      <th>Unnamed: 0</th>\n",
       "      <th>Título</th>\n",
       "      <th>Año</th>\n",
       "      <th>Director/es</th>\n",
       "      <th>Reparto</th>\n",
       "      <th>Género/s</th>\n",
       "      <th>País</th>\n",
       "      <th>Puntuación</th>\n",
       "      <th>Nº votos</th>\n",
       "      <th>Tipo</th>\n",
       "    </tr>\n",
       "  </thead>\n",
       "  <tbody>\n",
       "    <tr>\n",
       "      <th>0</th>\n",
       "      <td>0</td>\n",
       "      <td>Fahrenheit 9/11</td>\n",
       "      <td>2004</td>\n",
       "      <td>['Michael Moore']</td>\n",
       "      <td>['Documental', ' (intervenciones de: Michael M...</td>\n",
       "      <td>['Documental', '11-S', 'Guerra de Iraq']</td>\n",
       "      <td>Estados Unidos</td>\n",
       "      <td>6.99</td>\n",
       "      <td>69775</td>\n",
       "      <td>Película</td>\n",
       "    </tr>\n",
       "    <tr>\n",
       "      <th>1</th>\n",
       "      <td>1</td>\n",
       "      <td>La noche más oscura (Zero Dark Thirty)</td>\n",
       "      <td>2012</td>\n",
       "      <td>['Kathryn Bigelow']</td>\n",
       "      <td>['Jessica Chastain', 'Joel Edgerton', 'Taylor ...</td>\n",
       "      <td>['Thriller', 'Acción', 'Drama', 'Terrorismo', ...</td>\n",
       "      <td>Estados Unidos</td>\n",
       "      <td>6.79</td>\n",
       "      <td>36704</td>\n",
       "      <td>Película</td>\n",
       "    </tr>\n",
       "    <tr>\n",
       "      <th>2</th>\n",
       "      <td>2</td>\n",
       "      <td>La última noche</td>\n",
       "      <td>2002</td>\n",
       "      <td>['Spike Lee']</td>\n",
       "      <td>['Edward Norton', 'Philip Seymour Hoffman', 'B...</td>\n",
       "      <td>['Drama', 'Película de culto', '11-S']</td>\n",
       "      <td>Estados Unidos</td>\n",
       "      <td>7.49</td>\n",
       "      <td>33793</td>\n",
       "      <td>Película</td>\n",
       "    </tr>\n",
       "  </tbody>\n",
       "</table>\n",
       "</div>"
      ],
      "text/plain": [
       "   Unnamed: 0                                  Título   Año  \\\n",
       "0           0                         Fahrenheit 9/11  2004   \n",
       "1           1  La noche más oscura (Zero Dark Thirty)  2012   \n",
       "2           2                         La última noche  2002   \n",
       "\n",
       "           Director/es                                            Reparto  \\\n",
       "0    ['Michael Moore']  ['Documental', ' (intervenciones de: Michael M...   \n",
       "1  ['Kathryn Bigelow']  ['Jessica Chastain', 'Joel Edgerton', 'Taylor ...   \n",
       "2        ['Spike Lee']  ['Edward Norton', 'Philip Seymour Hoffman', 'B...   \n",
       "\n",
       "                                            Género/s            País  \\\n",
       "0           ['Documental', '11-S', 'Guerra de Iraq']  Estados Unidos   \n",
       "1  ['Thriller', 'Acción', 'Drama', 'Terrorismo', ...  Estados Unidos   \n",
       "2             ['Drama', 'Película de culto', '11-S']  Estados Unidos   \n",
       "\n",
       "   Puntuación  Nº votos      Tipo  \n",
       "0        6.99     69775  Película  \n",
       "1        6.79     36704  Película  \n",
       "2        7.49     33793  Película  "
      ]
     },
     "execution_count": 6,
     "metadata": {},
     "output_type": "execute_result"
    }
   ],
   "source": [
    "df.head(3)"
   ]
  },
  {
   "cell_type": "code",
   "execution_count": 7,
   "metadata": {},
   "outputs": [
    {
     "data": {
      "text/html": [
       "<div>\n",
       "<style scoped>\n",
       "    .dataframe tbody tr th:only-of-type {\n",
       "        vertical-align: middle;\n",
       "    }\n",
       "\n",
       "    .dataframe tbody tr th {\n",
       "        vertical-align: top;\n",
       "    }\n",
       "\n",
       "    .dataframe thead th {\n",
       "        text-align: right;\n",
       "    }\n",
       "</style>\n",
       "<table border=\"1\" class=\"dataframe\">\n",
       "  <thead>\n",
       "    <tr style=\"text-align: right;\">\n",
       "      <th></th>\n",
       "      <th>Unnamed: 0</th>\n",
       "      <th>Título</th>\n",
       "      <th>Año</th>\n",
       "      <th>Director/es</th>\n",
       "      <th>Reparto</th>\n",
       "      <th>Género/s</th>\n",
       "      <th>País</th>\n",
       "      <th>Puntuación</th>\n",
       "      <th>Nº votos</th>\n",
       "      <th>Tipo</th>\n",
       "    </tr>\n",
       "  </thead>\n",
       "  <tbody>\n",
       "    <tr>\n",
       "      <th>0</th>\n",
       "      <td>0</td>\n",
       "      <td>Fahrenheit 9/11</td>\n",
       "      <td>2004</td>\n",
       "      <td>['Michael Moore']</td>\n",
       "      <td>['Documental', ' (intervenciones de: Michael M...</td>\n",
       "      <td>['Documental', '11-S', 'Guerra de Iraq']</td>\n",
       "      <td>Estados Unidos</td>\n",
       "      <td>6.99</td>\n",
       "      <td>69775</td>\n",
       "      <td>Película</td>\n",
       "    </tr>\n",
       "    <tr>\n",
       "      <th>1</th>\n",
       "      <td>1</td>\n",
       "      <td>La noche más oscura (Zero Dark Thirty)</td>\n",
       "      <td>2012</td>\n",
       "      <td>['Kathryn Bigelow']</td>\n",
       "      <td>['Jessica Chastain', 'Joel Edgerton', 'Taylor ...</td>\n",
       "      <td>['Thriller', 'Acción', 'Drama', 'Terrorismo', ...</td>\n",
       "      <td>Estados Unidos</td>\n",
       "      <td>6.79</td>\n",
       "      <td>36704</td>\n",
       "      <td>Película</td>\n",
       "    </tr>\n",
       "    <tr>\n",
       "      <th>2</th>\n",
       "      <td>2</td>\n",
       "      <td>La última noche</td>\n",
       "      <td>2002</td>\n",
       "      <td>['Spike Lee']</td>\n",
       "      <td>['Edward Norton', 'Philip Seymour Hoffman', 'B...</td>\n",
       "      <td>['Drama', 'Película de culto', '11-S']</td>\n",
       "      <td>Estados Unidos</td>\n",
       "      <td>7.49</td>\n",
       "      <td>33793</td>\n",
       "      <td>Película</td>\n",
       "    </tr>\n",
       "    <tr>\n",
       "      <th>3</th>\n",
       "      <td>3</td>\n",
       "      <td>Zeitgeist: The Movie</td>\n",
       "      <td>2007</td>\n",
       "      <td>['Peter Joseph']</td>\n",
       "      <td>['Documental']</td>\n",
       "      <td>['Documental', 'Religión', '11-S', 'Cine indep...</td>\n",
       "      <td>Estados Unidos</td>\n",
       "      <td>7.36</td>\n",
       "      <td>21808</td>\n",
       "      <td>Película</td>\n",
       "    </tr>\n",
       "    <tr>\n",
       "      <th>4</th>\n",
       "      <td>4</td>\n",
       "      <td>United 93 (Vuelo 93)</td>\n",
       "      <td>2006</td>\n",
       "      <td>['Paul Greengrass']</td>\n",
       "      <td>['Christian Clemenson', 'Cheyenne Jackson', 'B...</td>\n",
       "      <td>['Drama', '11-S', 'Basado en hechos reales', '...</td>\n",
       "      <td>Estados Unidos</td>\n",
       "      <td>6.70</td>\n",
       "      <td>19146</td>\n",
       "      <td>Película</td>\n",
       "    </tr>\n",
       "  </tbody>\n",
       "</table>\n",
       "</div>"
      ],
      "text/plain": [
       "   Unnamed: 0                                  Título   Año  \\\n",
       "0           0                         Fahrenheit 9/11  2004   \n",
       "1           1  La noche más oscura (Zero Dark Thirty)  2012   \n",
       "2           2                         La última noche  2002   \n",
       "3           3                    Zeitgeist: The Movie  2007   \n",
       "4           4                    United 93 (Vuelo 93)  2006   \n",
       "\n",
       "           Director/es                                            Reparto  \\\n",
       "0    ['Michael Moore']  ['Documental', ' (intervenciones de: Michael M...   \n",
       "1  ['Kathryn Bigelow']  ['Jessica Chastain', 'Joel Edgerton', 'Taylor ...   \n",
       "2        ['Spike Lee']  ['Edward Norton', 'Philip Seymour Hoffman', 'B...   \n",
       "3     ['Peter Joseph']                                     ['Documental']   \n",
       "4  ['Paul Greengrass']  ['Christian Clemenson', 'Cheyenne Jackson', 'B...   \n",
       "\n",
       "                                            Género/s            País  \\\n",
       "0           ['Documental', '11-S', 'Guerra de Iraq']  Estados Unidos   \n",
       "1  ['Thriller', 'Acción', 'Drama', 'Terrorismo', ...  Estados Unidos   \n",
       "2             ['Drama', 'Película de culto', '11-S']  Estados Unidos   \n",
       "3  ['Documental', 'Religión', '11-S', 'Cine indep...  Estados Unidos   \n",
       "4  ['Drama', '11-S', 'Basado en hechos reales', '...  Estados Unidos   \n",
       "\n",
       "   Puntuación  Nº votos      Tipo  \n",
       "0        6.99     69775  Película  \n",
       "1        6.79     36704  Película  \n",
       "2        7.49     33793  Película  \n",
       "3        7.36     21808  Película  \n",
       "4        6.70     19146  Película  "
      ]
     },
     "execution_count": 7,
     "metadata": {},
     "output_type": "execute_result"
    }
   ],
   "source": [
    "df.explode('Reparto').head(5)"
   ]
  },
  {
   "cell_type": "code",
   "execution_count": 8,
   "metadata": {},
   "outputs": [
    {
     "data": {
      "text/plain": [
       "str"
      ]
     },
     "execution_count": 8,
     "metadata": {},
     "output_type": "execute_result"
    }
   ],
   "source": [
    "type(df.loc[0,'Reparto'])"
   ]
  },
  {
   "cell_type": "code",
   "execution_count": 9,
   "metadata": {},
   "outputs": [
    {
     "data": {
      "text/plain": [
       "list"
      ]
     },
     "execution_count": 9,
     "metadata": {},
     "output_type": "execute_result"
    }
   ],
   "source": [
    "type(eval(df.loc[0,'Reparto']))"
   ]
  },
  {
   "cell_type": "code",
   "execution_count": 10,
   "metadata": {},
   "outputs": [
    {
     "data": {
      "text/plain": [
       "[(\"['Documental'\", ']')]"
      ]
     },
     "execution_count": 10,
     "metadata": {},
     "output_type": "execute_result"
    }
   ],
   "source": [
    "re.findall(\"(\\['Documental')[^\\]]*(\\])\",df['Reparto'][0])"
   ]
  },
  {
   "cell_type": "code",
   "execution_count": 11,
   "metadata": {},
   "outputs": [
    {
     "data": {
      "text/plain": [
       "0        [(['Documental', ])]\n",
       "1                          []\n",
       "2                          []\n",
       "3        [(['Documental', ])]\n",
       "4                          []\n",
       "                 ...         \n",
       "11503                      []\n",
       "11504                      []\n",
       "11505                      []\n",
       "11506                      []\n",
       "11507                      []\n",
       "Name: Reparto, Length: 11508, dtype: object"
      ]
     },
     "execution_count": 11,
     "metadata": {},
     "output_type": "execute_result"
    }
   ],
   "source": [
    "df['Reparto'].str.findall(\"(\\['Documental')[^\\]]*(\\])\")"
   ]
  },
  {
   "cell_type": "code",
   "execution_count": 12,
   "metadata": {},
   "outputs": [
    {
     "data": {
      "text/plain": [
       "\"['Documental', ' (intervenciones de: Michael Moore', 'George W. Bush', 'George Bush)']\""
      ]
     },
     "execution_count": 12,
     "metadata": {},
     "output_type": "execute_result"
    }
   ],
   "source": [
    "df.loc[0,'Reparto']"
   ]
  },
  {
   "cell_type": "code",
   "execution_count": 13,
   "metadata": {},
   "outputs": [
    {
     "data": {
      "text/plain": [
       "\"['Documental']\""
      ]
     },
     "execution_count": 13,
     "metadata": {},
     "output_type": "execute_result"
    }
   ],
   "source": [
    "re.findall(\"(\\['Documental')\",df.loc[0,'Reparto'])[0]+']'"
   ]
  },
  {
   "cell_type": "code",
   "execution_count": null,
   "metadata": {},
   "outputs": [],
   "source": []
  },
  {
   "cell_type": "code",
   "execution_count": 68,
   "metadata": {},
   "outputs": [
    {
     "name": "stdout",
     "output_type": "stream",
     "text": [
      "Help on function findall in module re:\n",
      "\n",
      "findall(pattern, string, flags=0)\n",
      "    Return a list of all non-overlapping matches in the string.\n",
      "    \n",
      "    If one or more capturing groups are present in the pattern, return\n",
      "    a list of groups; this will be a list of tuples if the pattern\n",
      "    has more than one group.\n",
      "    \n",
      "    Empty matches are included in the result.\n",
      "\n"
     ]
    }
   ],
   "source": [
    "help(re.findall)"
   ]
  },
  {
   "cell_type": "code",
   "execution_count": null,
   "metadata": {},
   "outputs": [],
   "source": []
  },
  {
   "cell_type": "code",
   "execution_count": 14,
   "metadata": {},
   "outputs": [],
   "source": [
    "df['Director/es'] = df['Director/es'].apply(lambda x: eval(x))"
   ]
  },
  {
   "cell_type": "code",
   "execution_count": 15,
   "metadata": {},
   "outputs": [],
   "source": [
    "df['Género/s'] = df['Género/s'].apply(lambda x: eval(x))"
   ]
  },
  {
   "cell_type": "code",
   "execution_count": 16,
   "metadata": {},
   "outputs": [],
   "source": [
    "df['Reparto'] = df['Reparto'].apply(lambda x: eval(x))"
   ]
  },
  {
   "cell_type": "code",
   "execution_count": 17,
   "metadata": {},
   "outputs": [
    {
     "data": {
      "text/plain": [
       "['Documental',\n",
       " ' (intervenciones de: Michael Moore',\n",
       " 'George W. Bush',\n",
       " 'George Bush)']"
      ]
     },
     "execution_count": 17,
     "metadata": {},
     "output_type": "execute_result"
    }
   ],
   "source": [
    "df.loc[0,'Reparto']"
   ]
  },
  {
   "cell_type": "code",
   "execution_count": 18,
   "metadata": {},
   "outputs": [
    {
     "data": {
      "text/html": [
       "<div>\n",
       "<style scoped>\n",
       "    .dataframe tbody tr th:only-of-type {\n",
       "        vertical-align: middle;\n",
       "    }\n",
       "\n",
       "    .dataframe tbody tr th {\n",
       "        vertical-align: top;\n",
       "    }\n",
       "\n",
       "    .dataframe thead th {\n",
       "        text-align: right;\n",
       "    }\n",
       "</style>\n",
       "<table border=\"1\" class=\"dataframe\">\n",
       "  <thead>\n",
       "    <tr style=\"text-align: right;\">\n",
       "      <th></th>\n",
       "      <th>Unnamed: 0</th>\n",
       "      <th>Título</th>\n",
       "      <th>Año</th>\n",
       "      <th>Director/es</th>\n",
       "      <th>Reparto</th>\n",
       "      <th>Género/s</th>\n",
       "      <th>País</th>\n",
       "      <th>Puntuación</th>\n",
       "      <th>Nº votos</th>\n",
       "      <th>Tipo</th>\n",
       "    </tr>\n",
       "  </thead>\n",
       "  <tbody>\n",
       "  </tbody>\n",
       "</table>\n",
       "</div>"
      ],
      "text/plain": [
       "Empty DataFrame\n",
       "Columns: [Unnamed: 0, Título, Año, Director/es, Reparto, Género/s, País, Puntuación, Nº votos, Tipo]\n",
       "Index: []"
      ]
     },
     "execution_count": 18,
     "metadata": {},
     "output_type": "execute_result"
    }
   ],
   "source": [
    "df[df['Reparto'] == 'Documental']"
   ]
  },
  {
   "cell_type": "code",
   "execution_count": null,
   "metadata": {},
   "outputs": [],
   "source": []
  },
  {
   "cell_type": "code",
   "execution_count": null,
   "metadata": {},
   "outputs": [],
   "source": []
  },
  {
   "cell_type": "code",
   "execution_count": 19,
   "metadata": {},
   "outputs": [
    {
     "data": {
      "text/plain": [
       "Index(['Unnamed: 0', 'Título', 'Año', 'Director/es', 'Reparto', 'Género/s',\n",
       "       'País', 'Puntuación', 'Nº votos', 'Tipo'],\n",
       "      dtype='object')"
      ]
     },
     "execution_count": 19,
     "metadata": {},
     "output_type": "execute_result"
    }
   ],
   "source": [
    "df.columns"
   ]
  },
  {
   "cell_type": "code",
   "execution_count": 12,
   "metadata": {},
   "outputs": [],
   "source": [
    "df.drop(columns='Unnamed: 0', inplace=True)"
   ]
  },
  {
   "cell_type": "code",
   "execution_count": 13,
   "metadata": {},
   "outputs": [],
   "source": [
    "df.reset_index(inplace=True)"
   ]
  },
  {
   "cell_type": "code",
   "execution_count": 14,
   "metadata": {},
   "outputs": [],
   "source": [
    "df.rename(columns={\n",
    "    'index':'id',\n",
    "    'Título':'titulo',\n",
    "    'Año':'año',\n",
    "    'Director/es':'direccion',\n",
    "    'Reparto':'reparto',\n",
    "    'Género/s':'genero',\n",
    "    'País':'pais',\n",
    "    'Puntuación':'puntuacion',\n",
    "    'Nº votos':'votos',\n",
    "    'Tipo': 'tipo'\n",
    "}, inplace=True)"
   ]
  },
  {
   "cell_type": "code",
   "execution_count": 15,
   "metadata": {},
   "outputs": [
    {
     "data": {
      "text/html": [
       "<div>\n",
       "<style scoped>\n",
       "    .dataframe tbody tr th:only-of-type {\n",
       "        vertical-align: middle;\n",
       "    }\n",
       "\n",
       "    .dataframe tbody tr th {\n",
       "        vertical-align: top;\n",
       "    }\n",
       "\n",
       "    .dataframe thead th {\n",
       "        text-align: right;\n",
       "    }\n",
       "</style>\n",
       "<table border=\"1\" class=\"dataframe\">\n",
       "  <thead>\n",
       "    <tr style=\"text-align: right;\">\n",
       "      <th></th>\n",
       "      <th>id</th>\n",
       "      <th>titulo</th>\n",
       "      <th>año</th>\n",
       "      <th>direccion</th>\n",
       "      <th>reparto</th>\n",
       "      <th>genero</th>\n",
       "      <th>pais</th>\n",
       "      <th>puntuacion</th>\n",
       "      <th>votos</th>\n",
       "      <th>tipo</th>\n",
       "    </tr>\n",
       "  </thead>\n",
       "  <tbody>\n",
       "    <tr>\n",
       "      <th>0</th>\n",
       "      <td>0</td>\n",
       "      <td>Fahrenheit 9/11</td>\n",
       "      <td>2004</td>\n",
       "      <td>[Michael Moore]</td>\n",
       "      <td>[Documental,  (intervenciones de: Michael Moor...</td>\n",
       "      <td>[Documental, 11-S, Guerra de Iraq]</td>\n",
       "      <td>Estados Unidos</td>\n",
       "      <td>6.99</td>\n",
       "      <td>69775</td>\n",
       "      <td>Película</td>\n",
       "    </tr>\n",
       "    <tr>\n",
       "      <th>1</th>\n",
       "      <td>1</td>\n",
       "      <td>La noche más oscura (Zero Dark Thirty)</td>\n",
       "      <td>2012</td>\n",
       "      <td>[Kathryn Bigelow]</td>\n",
       "      <td>[Jessica Chastain, Joel Edgerton, Taylor Kinne...</td>\n",
       "      <td>[Thriller, Acción, Drama, Terrorismo, 11-S, Ba...</td>\n",
       "      <td>Estados Unidos</td>\n",
       "      <td>6.79</td>\n",
       "      <td>36704</td>\n",
       "      <td>Película</td>\n",
       "    </tr>\n",
       "    <tr>\n",
       "      <th>2</th>\n",
       "      <td>2</td>\n",
       "      <td>La última noche</td>\n",
       "      <td>2002</td>\n",
       "      <td>[Spike Lee]</td>\n",
       "      <td>[Edward Norton, Philip Seymour Hoffman, Barry ...</td>\n",
       "      <td>[Drama, Película de culto, 11-S]</td>\n",
       "      <td>Estados Unidos</td>\n",
       "      <td>7.49</td>\n",
       "      <td>33793</td>\n",
       "      <td>Película</td>\n",
       "    </tr>\n",
       "    <tr>\n",
       "      <th>3</th>\n",
       "      <td>3</td>\n",
       "      <td>Zeitgeist: The Movie</td>\n",
       "      <td>2007</td>\n",
       "      <td>[Peter Joseph]</td>\n",
       "      <td>[Documental]</td>\n",
       "      <td>[Documental, Religión, 11-S, Cine independient...</td>\n",
       "      <td>Estados Unidos</td>\n",
       "      <td>7.36</td>\n",
       "      <td>21808</td>\n",
       "      <td>Película</td>\n",
       "    </tr>\n",
       "    <tr>\n",
       "      <th>4</th>\n",
       "      <td>4</td>\n",
       "      <td>United 93 (Vuelo 93)</td>\n",
       "      <td>2006</td>\n",
       "      <td>[Paul Greengrass]</td>\n",
       "      <td>[Christian Clemenson, Cheyenne Jackson, Ben Sl...</td>\n",
       "      <td>[Drama, 11-S, Basado en hechos reales, Terrori...</td>\n",
       "      <td>Estados Unidos</td>\n",
       "      <td>6.70</td>\n",
       "      <td>19146</td>\n",
       "      <td>Película</td>\n",
       "    </tr>\n",
       "  </tbody>\n",
       "</table>\n",
       "</div>"
      ],
      "text/plain": [
       "   id                                  titulo   año          direccion  \\\n",
       "0   0                         Fahrenheit 9/11  2004    [Michael Moore]   \n",
       "1   1  La noche más oscura (Zero Dark Thirty)  2012  [Kathryn Bigelow]   \n",
       "2   2                         La última noche  2002        [Spike Lee]   \n",
       "3   3                    Zeitgeist: The Movie  2007     [Peter Joseph]   \n",
       "4   4                    United 93 (Vuelo 93)  2006  [Paul Greengrass]   \n",
       "\n",
       "                                             reparto  \\\n",
       "0  [Documental,  (intervenciones de: Michael Moor...   \n",
       "1  [Jessica Chastain, Joel Edgerton, Taylor Kinne...   \n",
       "2  [Edward Norton, Philip Seymour Hoffman, Barry ...   \n",
       "3                                       [Documental]   \n",
       "4  [Christian Clemenson, Cheyenne Jackson, Ben Sl...   \n",
       "\n",
       "                                              genero            pais  \\\n",
       "0                 [Documental, 11-S, Guerra de Iraq]  Estados Unidos   \n",
       "1  [Thriller, Acción, Drama, Terrorismo, 11-S, Ba...  Estados Unidos   \n",
       "2                   [Drama, Película de culto, 11-S]  Estados Unidos   \n",
       "3  [Documental, Religión, 11-S, Cine independient...  Estados Unidos   \n",
       "4  [Drama, 11-S, Basado en hechos reales, Terrori...  Estados Unidos   \n",
       "\n",
       "   puntuacion  votos      tipo  \n",
       "0        6.99  69775  Película  \n",
       "1        6.79  36704  Película  \n",
       "2        7.49  33793  Película  \n",
       "3        7.36  21808  Película  \n",
       "4        6.70  19146  Película  "
      ]
     },
     "execution_count": 15,
     "metadata": {},
     "output_type": "execute_result"
    }
   ],
   "source": [
    "df.head()"
   ]
  },
  {
   "cell_type": "code",
   "execution_count": 16,
   "metadata": {},
   "outputs": [],
   "source": [
    "df1 = df[['id', 'titulo', 'año', 'pais', 'tipo']]"
   ]
  },
  {
   "cell_type": "code",
   "execution_count": 2,
   "metadata": {},
   "outputs": [
    {
     "ename": "NameError",
     "evalue": "name 'df' is not defined",
     "output_type": "error",
     "traceback": [
      "\u001b[0;31m---------------------------------------------------------------------------\u001b[0m",
      "\u001b[0;31mNameError\u001b[0m                                 Traceback (most recent call last)",
      "\u001b[0;32m<ipython-input-2-c42a15b2c7cf>\u001b[0m in \u001b[0;36m<module>\u001b[0;34m\u001b[0m\n\u001b[0;32m----> 1\u001b[0;31m \u001b[0mdf\u001b[0m\u001b[0;34m.\u001b[0m\u001b[0mhead\u001b[0m\u001b[0;34m(\u001b[0m\u001b[0;34m)\u001b[0m\u001b[0;34m\u001b[0m\u001b[0;34m\u001b[0m\u001b[0m\n\u001b[0m",
      "\u001b[0;31mNameError\u001b[0m: name 'df' is not defined"
     ]
    }
   ],
   "source": [
    "df.head()"
   ]
  },
  {
   "cell_type": "code",
   "execution_count": 17,
   "metadata": {},
   "outputs": [],
   "source": [
    "df2 = df.explode('direccion')[['id', 'direccion']]"
   ]
  },
  {
   "cell_type": "code",
   "execution_count": 18,
   "metadata": {},
   "outputs": [],
   "source": [
    "df3 = df.explode('reparto')[['id', 'reparto']]"
   ]
  },
  {
   "cell_type": "code",
   "execution_count": 19,
   "metadata": {},
   "outputs": [],
   "source": [
    "df3.rename(columns={'reparto':'actor'}, inplace=True)"
   ]
  },
  {
   "cell_type": "code",
   "execution_count": 20,
   "metadata": {},
   "outputs": [],
   "source": [
    "df4 = df.explode('genero')[['id', 'genero']]"
   ]
  },
  {
   "cell_type": "code",
   "execution_count": 21,
   "metadata": {},
   "outputs": [],
   "source": [
    "df5 = df[['id','puntuacion', 'votos']]"
   ]
  },
  {
   "cell_type": "code",
   "execution_count": 22,
   "metadata": {},
   "outputs": [
    {
     "name": "stdout",
     "output_type": "stream",
     "text": [
      "Help on method to_csv in module pandas.core.generic:\n",
      "\n",
      "to_csv(path_or_buf: Union[str, pathlib.Path, IO[~AnyStr], NoneType] = None, sep: str = ',', na_rep: str = '', float_format: Union[str, NoneType] = None, columns: Union[Sequence[Union[Hashable, NoneType]], NoneType] = None, header: Union[bool, List[str]] = True, index: bool = True, index_label: Union[bool, str, Sequence[Union[Hashable, NoneType]], NoneType] = None, mode: str = 'w', encoding: Union[str, NoneType] = None, compression: Union[str, Mapping[str, str], NoneType] = 'infer', quoting: Union[int, NoneType] = None, quotechar: str = '\"', line_terminator: Union[str, NoneType] = None, chunksize: Union[int, NoneType] = None, date_format: Union[str, NoneType] = None, doublequote: bool = True, escapechar: Union[str, NoneType] = None, decimal: Union[str, NoneType] = '.', errors: str = 'strict') -> Union[str, NoneType] method of pandas.core.frame.DataFrame instance\n",
      "    Write object to a comma-separated values (csv) file.\n",
      "    \n",
      "    .. versionchanged:: 0.24.0\n",
      "        The order of arguments for Series was changed.\n",
      "    \n",
      "    Parameters\n",
      "    ----------\n",
      "    path_or_buf : str or file handle, default None\n",
      "        File path or object, if None is provided the result is returned as\n",
      "        a string.  If a file object is passed it should be opened with\n",
      "        `newline=''`, disabling universal newlines.\n",
      "    \n",
      "        .. versionchanged:: 0.24.0\n",
      "    \n",
      "           Was previously named \"path\" for Series.\n",
      "    \n",
      "    sep : str, default ','\n",
      "        String of length 1. Field delimiter for the output file.\n",
      "    na_rep : str, default ''\n",
      "        Missing data representation.\n",
      "    float_format : str, default None\n",
      "        Format string for floating point numbers.\n",
      "    columns : sequence, optional\n",
      "        Columns to write.\n",
      "    header : bool or list of str, default True\n",
      "        Write out the column names. If a list of strings is given it is\n",
      "        assumed to be aliases for the column names.\n",
      "    \n",
      "        .. versionchanged:: 0.24.0\n",
      "    \n",
      "           Previously defaulted to False for Series.\n",
      "    \n",
      "    index : bool, default True\n",
      "        Write row names (index).\n",
      "    index_label : str or sequence, or False, default None\n",
      "        Column label for index column(s) if desired. If None is given, and\n",
      "        `header` and `index` are True, then the index names are used. A\n",
      "        sequence should be given if the object uses MultiIndex. If\n",
      "        False do not print fields for index names. Use index_label=False\n",
      "        for easier importing in R.\n",
      "    mode : str\n",
      "        Python write mode, default 'w'.\n",
      "    encoding : str, optional\n",
      "        A string representing the encoding to use in the output file,\n",
      "        defaults to 'utf-8'.\n",
      "    compression : str or dict, default 'infer'\n",
      "        If str, represents compression mode. If dict, value at 'method' is\n",
      "        the compression mode. Compression mode may be any of the following\n",
      "        possible values: {'infer', 'gzip', 'bz2', 'zip', 'xz', None}. If\n",
      "        compression mode is 'infer' and `path_or_buf` is path-like, then\n",
      "        detect compression mode from the following extensions: '.gz',\n",
      "        '.bz2', '.zip' or '.xz'. (otherwise no compression). If dict given\n",
      "        and mode is one of {'zip', 'gzip', 'bz2'}, or inferred as\n",
      "        one of the above, other entries passed as\n",
      "        additional compression options.\n",
      "    \n",
      "        .. versionchanged:: 1.0.0\n",
      "    \n",
      "           May now be a dict with key 'method' as compression mode\n",
      "           and other entries as additional compression options if\n",
      "           compression mode is 'zip'.\n",
      "    \n",
      "        .. versionchanged:: 1.1.0\n",
      "    \n",
      "           Passing compression options as keys in dict is\n",
      "           supported for compression modes 'gzip' and 'bz2'\n",
      "           as well as 'zip'.\n",
      "    \n",
      "    quoting : optional constant from csv module\n",
      "        Defaults to csv.QUOTE_MINIMAL. If you have set a `float_format`\n",
      "        then floats are converted to strings and thus csv.QUOTE_NONNUMERIC\n",
      "        will treat them as non-numeric.\n",
      "    quotechar : str, default '\\\"'\n",
      "        String of length 1. Character used to quote fields.\n",
      "    line_terminator : str, optional\n",
      "        The newline character or character sequence to use in the output\n",
      "        file. Defaults to `os.linesep`, which depends on the OS in which\n",
      "        this method is called ('\\n' for linux, '\\r\\n' for Windows, i.e.).\n",
      "    \n",
      "        .. versionchanged:: 0.24.0\n",
      "    chunksize : int or None\n",
      "        Rows to write at a time.\n",
      "    date_format : str, default None\n",
      "        Format string for datetime objects.\n",
      "    doublequote : bool, default True\n",
      "        Control quoting of `quotechar` inside a field.\n",
      "    escapechar : str, default None\n",
      "        String of length 1. Character used to escape `sep` and `quotechar`\n",
      "        when appropriate.\n",
      "    decimal : str, default '.'\n",
      "        Character recognized as decimal separator. E.g. use ',' for\n",
      "        European data.\n",
      "    errors : str, default 'strict'\n",
      "        Specifies how encoding and decoding errors are to be handled.\n",
      "        See the errors argument for :func:`open` for a full list\n",
      "        of options.\n",
      "    \n",
      "        .. versionadded:: 1.1.0\n",
      "    \n",
      "    Returns\n",
      "    -------\n",
      "    None or str\n",
      "        If path_or_buf is None, returns the resulting csv format as a\n",
      "        string. Otherwise returns None.\n",
      "    \n",
      "    See Also\n",
      "    --------\n",
      "    read_csv : Load a CSV file into a DataFrame.\n",
      "    to_excel : Write DataFrame to an Excel file.\n",
      "    \n",
      "    Examples\n",
      "    --------\n",
      "    >>> df = pd.DataFrame({'name': ['Raphael', 'Donatello'],\n",
      "    ...                    'mask': ['red', 'purple'],\n",
      "    ...                    'weapon': ['sai', 'bo staff']})\n",
      "    >>> df.to_csv(index=False)\n",
      "    'name,mask,weapon\\nRaphael,red,sai\\nDonatello,purple,bo staff\\n'\n",
      "    \n",
      "    Create 'out.zip' containing 'out.csv'\n",
      "    \n",
      "    >>> compression_opts = dict(method='zip',\n",
      "    ...                         archive_name='out.csv')  # doctest: +SKIP\n",
      "    >>> df.to_csv('out.zip', index=False,\n",
      "    ...           compression=compression_opts)  # doctest: +SKIP\n",
      "\n"
     ]
    }
   ],
   "source": [
    "help(df.to_csv)"
   ]
  },
  {
   "cell_type": "code",
   "execution_count": 23,
   "metadata": {},
   "outputs": [],
   "source": [
    "df1.to_csv('pelis.csv', index=False)"
   ]
  },
  {
   "cell_type": "code",
   "execution_count": 24,
   "metadata": {},
   "outputs": [],
   "source": [
    "df2.to_csv('direccion.csv', index=False)\n",
    "df3.to_csv('actores.csv', index=False)\n",
    "df4.to_csv('genero.csv', index=False)\n",
    "df5.to_csv('rating.csv', index=False)"
   ]
  },
  {
   "cell_type": "code",
   "execution_count": 25,
   "metadata": {},
   "outputs": [
    {
     "data": {
      "text/plain": [
       "Index(['id', 'titulo', 'año', 'direccion', 'reparto', 'genero', 'pais',\n",
       "       'puntuacion', 'votos', 'tipo'],\n",
       "      dtype='object')"
      ]
     },
     "execution_count": 25,
     "metadata": {},
     "output_type": "execute_result"
    }
   ],
   "source": [
    "df.columns"
   ]
  },
  {
   "cell_type": "code",
   "execution_count": 26,
   "metadata": {},
   "outputs": [
    {
     "data": {
      "text/plain": [
       "(84434, 2)"
      ]
     },
     "execution_count": 26,
     "metadata": {},
     "output_type": "execute_result"
    }
   ],
   "source": [
    "df3.shape"
   ]
  },
  {
   "cell_type": "code",
   "execution_count": 27,
   "metadata": {},
   "outputs": [
    {
     "data": {
      "text/html": [
       "<div>\n",
       "<style scoped>\n",
       "    .dataframe tbody tr th:only-of-type {\n",
       "        vertical-align: middle;\n",
       "    }\n",
       "\n",
       "    .dataframe tbody tr th {\n",
       "        vertical-align: top;\n",
       "    }\n",
       "\n",
       "    .dataframe thead th {\n",
       "        text-align: right;\n",
       "    }\n",
       "</style>\n",
       "<table border=\"1\" class=\"dataframe\">\n",
       "  <thead>\n",
       "    <tr style=\"text-align: right;\">\n",
       "      <th></th>\n",
       "      <th>id</th>\n",
       "      <th>titulo</th>\n",
       "      <th>año</th>\n",
       "      <th>pais</th>\n",
       "      <th>tipo</th>\n",
       "    </tr>\n",
       "  </thead>\n",
       "  <tbody>\n",
       "    <tr>\n",
       "      <th>0</th>\n",
       "      <td>0</td>\n",
       "      <td>Fahrenheit 9/11</td>\n",
       "      <td>2004</td>\n",
       "      <td>Estados Unidos</td>\n",
       "      <td>Película</td>\n",
       "    </tr>\n",
       "    <tr>\n",
       "      <th>1</th>\n",
       "      <td>1</td>\n",
       "      <td>La noche más oscura (Zero Dark Thirty)</td>\n",
       "      <td>2012</td>\n",
       "      <td>Estados Unidos</td>\n",
       "      <td>Película</td>\n",
       "    </tr>\n",
       "  </tbody>\n",
       "</table>\n",
       "</div>"
      ],
      "text/plain": [
       "   id                                  titulo   año            pais      tipo\n",
       "0   0                         Fahrenheit 9/11  2004  Estados Unidos  Película\n",
       "1   1  La noche más oscura (Zero Dark Thirty)  2012  Estados Unidos  Película"
      ]
     },
     "execution_count": 27,
     "metadata": {},
     "output_type": "execute_result"
    }
   ],
   "source": [
    "df1.head(2)"
   ]
  },
  {
   "cell_type": "code",
   "execution_count": 28,
   "metadata": {},
   "outputs": [
    {
     "data": {
      "text/html": [
       "<div>\n",
       "<style scoped>\n",
       "    .dataframe tbody tr th:only-of-type {\n",
       "        vertical-align: middle;\n",
       "    }\n",
       "\n",
       "    .dataframe tbody tr th {\n",
       "        vertical-align: top;\n",
       "    }\n",
       "\n",
       "    .dataframe thead th {\n",
       "        text-align: right;\n",
       "    }\n",
       "</style>\n",
       "<table border=\"1\" class=\"dataframe\">\n",
       "  <thead>\n",
       "    <tr style=\"text-align: right;\">\n",
       "      <th></th>\n",
       "      <th>id</th>\n",
       "      <th>direccion</th>\n",
       "    </tr>\n",
       "  </thead>\n",
       "  <tbody>\n",
       "    <tr>\n",
       "      <th>0</th>\n",
       "      <td>0</td>\n",
       "      <td>Michael Moore</td>\n",
       "    </tr>\n",
       "    <tr>\n",
       "      <th>1</th>\n",
       "      <td>1</td>\n",
       "      <td>Kathryn Bigelow</td>\n",
       "    </tr>\n",
       "  </tbody>\n",
       "</table>\n",
       "</div>"
      ],
      "text/plain": [
       "   id        direccion\n",
       "0   0    Michael Moore\n",
       "1   1  Kathryn Bigelow"
      ]
     },
     "execution_count": 28,
     "metadata": {},
     "output_type": "execute_result"
    }
   ],
   "source": [
    "df2.head(2)"
   ]
  },
  {
   "cell_type": "code",
   "execution_count": 29,
   "metadata": {},
   "outputs": [
    {
     "data": {
      "text/html": [
       "<div>\n",
       "<style scoped>\n",
       "    .dataframe tbody tr th:only-of-type {\n",
       "        vertical-align: middle;\n",
       "    }\n",
       "\n",
       "    .dataframe tbody tr th {\n",
       "        vertical-align: top;\n",
       "    }\n",
       "\n",
       "    .dataframe thead th {\n",
       "        text-align: right;\n",
       "    }\n",
       "</style>\n",
       "<table border=\"1\" class=\"dataframe\">\n",
       "  <thead>\n",
       "    <tr style=\"text-align: right;\">\n",
       "      <th></th>\n",
       "      <th>id</th>\n",
       "      <th>actor</th>\n",
       "    </tr>\n",
       "  </thead>\n",
       "  <tbody>\n",
       "    <tr>\n",
       "      <th>0</th>\n",
       "      <td>0</td>\n",
       "      <td>Documental</td>\n",
       "    </tr>\n",
       "    <tr>\n",
       "      <th>0</th>\n",
       "      <td>0</td>\n",
       "      <td>(intervenciones de: Michael Moore</td>\n",
       "    </tr>\n",
       "  </tbody>\n",
       "</table>\n",
       "</div>"
      ],
      "text/plain": [
       "   id                               actor\n",
       "0   0                          Documental\n",
       "0   0   (intervenciones de: Michael Moore"
      ]
     },
     "execution_count": 29,
     "metadata": {},
     "output_type": "execute_result"
    }
   ],
   "source": [
    "df3.head(2)"
   ]
  },
  {
   "cell_type": "code",
   "execution_count": 30,
   "metadata": {},
   "outputs": [
    {
     "data": {
      "text/html": [
       "<div>\n",
       "<style scoped>\n",
       "    .dataframe tbody tr th:only-of-type {\n",
       "        vertical-align: middle;\n",
       "    }\n",
       "\n",
       "    .dataframe tbody tr th {\n",
       "        vertical-align: top;\n",
       "    }\n",
       "\n",
       "    .dataframe thead th {\n",
       "        text-align: right;\n",
       "    }\n",
       "</style>\n",
       "<table border=\"1\" class=\"dataframe\">\n",
       "  <thead>\n",
       "    <tr style=\"text-align: right;\">\n",
       "      <th></th>\n",
       "      <th>id</th>\n",
       "      <th>genero</th>\n",
       "    </tr>\n",
       "  </thead>\n",
       "  <tbody>\n",
       "    <tr>\n",
       "      <th>0</th>\n",
       "      <td>0</td>\n",
       "      <td>Documental</td>\n",
       "    </tr>\n",
       "    <tr>\n",
       "      <th>0</th>\n",
       "      <td>0</td>\n",
       "      <td>11-S</td>\n",
       "    </tr>\n",
       "  </tbody>\n",
       "</table>\n",
       "</div>"
      ],
      "text/plain": [
       "   id      genero\n",
       "0   0  Documental\n",
       "0   0        11-S"
      ]
     },
     "execution_count": 30,
     "metadata": {},
     "output_type": "execute_result"
    }
   ],
   "source": [
    "df4.head(2)"
   ]
  },
  {
   "cell_type": "code",
   "execution_count": 31,
   "metadata": {},
   "outputs": [
    {
     "data": {
      "text/html": [
       "<div>\n",
       "<style scoped>\n",
       "    .dataframe tbody tr th:only-of-type {\n",
       "        vertical-align: middle;\n",
       "    }\n",
       "\n",
       "    .dataframe tbody tr th {\n",
       "        vertical-align: top;\n",
       "    }\n",
       "\n",
       "    .dataframe thead th {\n",
       "        text-align: right;\n",
       "    }\n",
       "</style>\n",
       "<table border=\"1\" class=\"dataframe\">\n",
       "  <thead>\n",
       "    <tr style=\"text-align: right;\">\n",
       "      <th></th>\n",
       "      <th>id</th>\n",
       "      <th>puntuacion</th>\n",
       "      <th>votos</th>\n",
       "    </tr>\n",
       "  </thead>\n",
       "  <tbody>\n",
       "    <tr>\n",
       "      <th>0</th>\n",
       "      <td>0</td>\n",
       "      <td>6.99</td>\n",
       "      <td>69775</td>\n",
       "    </tr>\n",
       "    <tr>\n",
       "      <th>1</th>\n",
       "      <td>1</td>\n",
       "      <td>6.79</td>\n",
       "      <td>36704</td>\n",
       "    </tr>\n",
       "  </tbody>\n",
       "</table>\n",
       "</div>"
      ],
      "text/plain": [
       "   id  puntuacion  votos\n",
       "0   0        6.99  69775\n",
       "1   1        6.79  36704"
      ]
     },
     "execution_count": 31,
     "metadata": {},
     "output_type": "execute_result"
    }
   ],
   "source": [
    "df5.head(2)"
   ]
  },
  {
   "cell_type": "code",
   "execution_count": 32,
   "metadata": {},
   "outputs": [],
   "source": [
    "%load_ext sql"
   ]
  },
  {
   "cell_type": "code",
   "execution_count": 33,
   "metadata": {},
   "outputs": [],
   "source": [
    "db_url = 'sqlite:///filmaffinity.db'"
   ]
  },
  {
   "cell_type": "code",
   "execution_count": 34,
   "metadata": {},
   "outputs": [],
   "source": [
    "df1.to_sql('Pelis', db_url, if_exists='append', index=False)"
   ]
  },
  {
   "cell_type": "code",
   "execution_count": 35,
   "metadata": {},
   "outputs": [],
   "source": [
    "df2.to_sql('Direccion', db_url, if_exists='append', index=False)"
   ]
  },
  {
   "cell_type": "code",
   "execution_count": 36,
   "metadata": {},
   "outputs": [],
   "source": [
    "df3.to_sql('Actores', db_url, if_exists='append', index=False)"
   ]
  },
  {
   "cell_type": "code",
   "execution_count": 37,
   "metadata": {},
   "outputs": [],
   "source": [
    "df4.to_sql('Genero', db_url, if_exists='append', index=False)"
   ]
  },
  {
   "cell_type": "code",
   "execution_count": 38,
   "metadata": {},
   "outputs": [],
   "source": [
    "df5.to_sql('Rating', db_url, if_exists='append', index=False)"
   ]
  },
  {
   "cell_type": "code",
   "execution_count": 40,
   "metadata": {},
   "outputs": [
    {
     "data": {
      "text/html": [
       "<div>\n",
       "<style scoped>\n",
       "    .dataframe tbody tr th:only-of-type {\n",
       "        vertical-align: middle;\n",
       "    }\n",
       "\n",
       "    .dataframe tbody tr th {\n",
       "        vertical-align: top;\n",
       "    }\n",
       "\n",
       "    .dataframe thead th {\n",
       "        text-align: right;\n",
       "    }\n",
       "</style>\n",
       "<table border=\"1\" class=\"dataframe\">\n",
       "  <thead>\n",
       "    <tr style=\"text-align: right;\">\n",
       "      <th></th>\n",
       "      <th>id</th>\n",
       "      <th>actor</th>\n",
       "    </tr>\n",
       "  </thead>\n",
       "  <tbody>\n",
       "    <tr>\n",
       "      <th>0</th>\n",
       "      <td>0</td>\n",
       "      <td>Documental</td>\n",
       "    </tr>\n",
       "    <tr>\n",
       "      <th>0</th>\n",
       "      <td>0</td>\n",
       "      <td>(intervenciones de: Michael Moore</td>\n",
       "    </tr>\n",
       "    <tr>\n",
       "      <th>0</th>\n",
       "      <td>0</td>\n",
       "      <td>George W. Bush</td>\n",
       "    </tr>\n",
       "    <tr>\n",
       "      <th>0</th>\n",
       "      <td>0</td>\n",
       "      <td>George Bush)</td>\n",
       "    </tr>\n",
       "    <tr>\n",
       "      <th>1</th>\n",
       "      <td>1</td>\n",
       "      <td>Jessica Chastain</td>\n",
       "    </tr>\n",
       "  </tbody>\n",
       "</table>\n",
       "</div>"
      ],
      "text/plain": [
       "   id                               actor\n",
       "0   0                          Documental\n",
       "0   0   (intervenciones de: Michael Moore\n",
       "0   0                      George W. Bush\n",
       "0   0                        George Bush)\n",
       "1   1                    Jessica Chastain"
      ]
     },
     "execution_count": 40,
     "metadata": {},
     "output_type": "execute_result"
    }
   ],
   "source": [
    "df3.head()"
   ]
  },
  {
   "cell_type": "code",
   "execution_count": 1,
   "metadata": {},
   "outputs": [
    {
     "ename": "NameError",
     "evalue": "name 'df1' is not defined",
     "output_type": "error",
     "traceback": [
      "\u001b[0;31m---------------------------------------------------------------------------\u001b[0m",
      "\u001b[0;31mNameError\u001b[0m                                 Traceback (most recent call last)",
      "\u001b[0;32m<ipython-input-1-eda2b5cc1a42>\u001b[0m in \u001b[0;36m<module>\u001b[0;34m\u001b[0m\n\u001b[0;32m----> 1\u001b[0;31m \u001b[0mdf1\u001b[0m\u001b[0;34m.\u001b[0m\u001b[0mhead\u001b[0m\u001b[0;34m(\u001b[0m\u001b[0;34m)\u001b[0m\u001b[0;34m\u001b[0m\u001b[0;34m\u001b[0m\u001b[0m\n\u001b[0m",
      "\u001b[0;31mNameError\u001b[0m: name 'df1' is not defined"
     ]
    }
   ],
   "source": [
    "df1.head()"
   ]
  },
  {
   "cell_type": "code",
   "execution_count": 20,
   "metadata": {},
   "outputs": [
    {
     "name": "stdout",
     "output_type": "stream",
     "text": [
      "Help on method lookup in module pandas.core.frame:\n",
      "\n",
      "lookup(row_labels, col_labels) -> numpy.ndarray method of pandas.core.frame.DataFrame instance\n",
      "    Label-based \"fancy indexing\" function for DataFrame.\n",
      "    \n",
      "    Given equal-length arrays of row and column labels, return an\n",
      "    array of the values corresponding to each (row, col) pair.\n",
      "    \n",
      "    Parameters\n",
      "    ----------\n",
      "    row_labels : sequence\n",
      "        The row labels to use for lookup.\n",
      "    col_labels : sequence\n",
      "        The column labels to use for lookup.\n",
      "    \n",
      "    Returns\n",
      "    -------\n",
      "    numpy.ndarray\n",
      "        The found values.\n",
      "\n"
     ]
    }
   ],
   "source": [
    "help(df.lookup)"
   ]
  },
  {
   "cell_type": "code",
   "execution_count": null,
   "metadata": {},
   "outputs": [],
   "source": []
  },
  {
   "cell_type": "code",
   "execution_count": null,
   "metadata": {},
   "outputs": [],
   "source": []
  }
 ],
 "metadata": {
  "kernelspec": {
   "display_name": "Python 3",
   "language": "python",
   "name": "python3"
  },
  "language_info": {
   "codemirror_mode": {
    "name": "ipython",
    "version": 3
   },
   "file_extension": ".py",
   "mimetype": "text/x-python",
   "name": "python",
   "nbconvert_exporter": "python",
   "pygments_lexer": "ipython3",
   "version": "3.8.5"
  },
  "toc": {
   "base_numbering": 1,
   "nav_menu": {},
   "number_sections": true,
   "sideBar": true,
   "skip_h1_title": false,
   "title_cell": "Table of Contents",
   "title_sidebar": "Contents",
   "toc_cell": false,
   "toc_position": {},
   "toc_section_display": true,
   "toc_window_display": false
  },
  "varInspector": {
   "cols": {
    "lenName": 16,
    "lenType": 16,
    "lenVar": 40
   },
   "kernels_config": {
    "python": {
     "delete_cmd_postfix": "",
     "delete_cmd_prefix": "del ",
     "library": "var_list.py",
     "varRefreshCmd": "print(var_dic_list())"
    },
    "r": {
     "delete_cmd_postfix": ") ",
     "delete_cmd_prefix": "rm(",
     "library": "var_list.r",
     "varRefreshCmd": "cat(var_dic_list()) "
    }
   },
   "types_to_exclude": [
    "module",
    "function",
    "builtin_function_or_method",
    "instance",
    "_Feature"
   ],
   "window_display": false
  }
 },
 "nbformat": 4,
 "nbformat_minor": 4
}

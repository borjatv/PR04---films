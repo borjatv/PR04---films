{
 "cells": [
  {
   "source": [
    "# Librerías"
   ],
   "cell_type": "markdown",
   "metadata": {}
  },
  {
   "cell_type": "code",
   "execution_count": 1,
   "metadata": {},
   "outputs": [],
   "source": [
    "import pandas as pd\n",
    "import re"
   ]
  },
  {
   "source": [
    "# Creación del contenido de la futura base de datos"
   ],
   "cell_type": "markdown",
   "metadata": {}
  },
  {
   "cell_type": "code",
   "execution_count": 2,
   "metadata": {},
   "outputs": [],
   "source": [
    "df = pd.read_csv('./pelistop.csv')"
   ]
  },
  {
   "cell_type": "code",
   "execution_count": 3,
   "metadata": {},
   "outputs": [
    {
     "output_type": "stream",
     "name": "stdout",
     "text": [
      "<class 'pandas.core.frame.DataFrame'>\nRangeIndex: 11508 entries, 0 to 11507\nData columns (total 10 columns):\n #   Column       Non-Null Count  Dtype  \n---  ------       --------------  -----  \n 0   Unnamed: 0   11508 non-null  int64  \n 1   Título       11508 non-null  object \n 2   Año          11508 non-null  int64  \n 3   Director/es  11508 non-null  object \n 4   Reparto      11508 non-null  object \n 5   Género/s     11508 non-null  object \n 6   País         11508 non-null  object \n 7   Puntuación   11508 non-null  float64\n 8   Nº votos     11508 non-null  int64  \n 9   Tipo         11508 non-null  object \ndtypes: float64(1), int64(3), object(6)\nmemory usage: 899.2+ KB\n"
     ]
    }
   ],
   "source": [
    "df.info()"
   ]
  },
  {
   "cell_type": "code",
   "execution_count": 4,
   "metadata": {
    "scrolled": true
   },
   "outputs": [
    {
     "output_type": "execute_result",
     "data": {
      "text/plain": [
       "   Unnamed: 0                                  Título   Año  \\\n",
       "0           0                         Fahrenheit 9/11  2004   \n",
       "1           1  La noche más oscura (Zero Dark Thirty)  2012   \n",
       "2           2                         La última noche  2002   \n",
       "\n",
       "           Director/es                                            Reparto  \\\n",
       "0    ['Michael Moore']  ['Documental', ' (intervenciones de: Michael M...   \n",
       "1  ['Kathryn Bigelow']  ['Jessica Chastain', 'Joel Edgerton', 'Taylor ...   \n",
       "2        ['Spike Lee']  ['Edward Norton', 'Philip Seymour Hoffman', 'B...   \n",
       "\n",
       "                                            Género/s            País  \\\n",
       "0           ['Documental', '11-S', 'Guerra de Iraq']  Estados Unidos   \n",
       "1  ['Thriller', 'Acción', 'Drama', 'Terrorismo', ...  Estados Unidos   \n",
       "2             ['Drama', 'Película de culto', '11-S']  Estados Unidos   \n",
       "\n",
       "   Puntuación  Nº votos      Tipo  \n",
       "0        6.99     69775  Película  \n",
       "1        6.79     36704  Película  \n",
       "2        7.49     33793  Película  "
      ],
      "text/html": "<div>\n<style scoped>\n    .dataframe tbody tr th:only-of-type {\n        vertical-align: middle;\n    }\n\n    .dataframe tbody tr th {\n        vertical-align: top;\n    }\n\n    .dataframe thead th {\n        text-align: right;\n    }\n</style>\n<table border=\"1\" class=\"dataframe\">\n  <thead>\n    <tr style=\"text-align: right;\">\n      <th></th>\n      <th>Unnamed: 0</th>\n      <th>Título</th>\n      <th>Año</th>\n      <th>Director/es</th>\n      <th>Reparto</th>\n      <th>Género/s</th>\n      <th>País</th>\n      <th>Puntuación</th>\n      <th>Nº votos</th>\n      <th>Tipo</th>\n    </tr>\n  </thead>\n  <tbody>\n    <tr>\n      <th>0</th>\n      <td>0</td>\n      <td>Fahrenheit 9/11</td>\n      <td>2004</td>\n      <td>['Michael Moore']</td>\n      <td>['Documental', ' (intervenciones de: Michael M...</td>\n      <td>['Documental', '11-S', 'Guerra de Iraq']</td>\n      <td>Estados Unidos</td>\n      <td>6.99</td>\n      <td>69775</td>\n      <td>Película</td>\n    </tr>\n    <tr>\n      <th>1</th>\n      <td>1</td>\n      <td>La noche más oscura (Zero Dark Thirty)</td>\n      <td>2012</td>\n      <td>['Kathryn Bigelow']</td>\n      <td>['Jessica Chastain', 'Joel Edgerton', 'Taylor ...</td>\n      <td>['Thriller', 'Acción', 'Drama', 'Terrorismo', ...</td>\n      <td>Estados Unidos</td>\n      <td>6.79</td>\n      <td>36704</td>\n      <td>Película</td>\n    </tr>\n    <tr>\n      <th>2</th>\n      <td>2</td>\n      <td>La última noche</td>\n      <td>2002</td>\n      <td>['Spike Lee']</td>\n      <td>['Edward Norton', 'Philip Seymour Hoffman', 'B...</td>\n      <td>['Drama', 'Película de culto', '11-S']</td>\n      <td>Estados Unidos</td>\n      <td>7.49</td>\n      <td>33793</td>\n      <td>Película</td>\n    </tr>\n  </tbody>\n</table>\n</div>"
     },
     "metadata": {},
     "execution_count": 4
    }
   ],
   "source": [
    "df.head(3)"
   ]
  },
  {
   "cell_type": "code",
   "execution_count": 7,
   "metadata": {},
   "outputs": [],
   "source": [
    "df.drop(columns='Unnamed: 0', inplace=True)"
   ]
  },
  {
   "cell_type": "code",
   "execution_count": 8,
   "metadata": {},
   "outputs": [
    {
     "output_type": "execute_result",
     "data": {
      "text/plain": [
       "str"
      ]
     },
     "metadata": {},
     "execution_count": 8
    }
   ],
   "source": [
    "type(df.loc[0,'Reparto'])"
   ]
  },
  {
   "cell_type": "code",
   "execution_count": 9,
   "metadata": {},
   "outputs": [
    {
     "output_type": "execute_result",
     "data": {
      "text/plain": [
       "list"
      ]
     },
     "metadata": {},
     "execution_count": 9
    }
   ],
   "source": [
    "type(eval(df.loc[0,'Reparto']))"
   ]
  },
  {
   "cell_type": "code",
   "execution_count": 10,
   "metadata": {},
   "outputs": [
    {
     "output_type": "execute_result",
     "data": {
      "text/plain": [
       "\"['Documental', ' (intervenciones de: Michael Moore', 'George W. Bush', 'George Bush)']\""
      ]
     },
     "metadata": {},
     "execution_count": 10
    }
   ],
   "source": [
    "df.loc[0,'Reparto']"
   ]
  },
  {
   "cell_type": "code",
   "execution_count": 11,
   "metadata": {},
   "outputs": [],
   "source": [
    "df['Reparto'] = df['Reparto'].str.replace(\"(\\['Documental')[^\\]]*(\\])\",\"['Documental'\"+']')"
   ]
  },
  {
   "cell_type": "code",
   "execution_count": 12,
   "metadata": {},
   "outputs": [
    {
     "output_type": "execute_result",
     "data": {
      "text/plain": [
       "\"['Documental']\""
      ]
     },
     "metadata": {},
     "execution_count": 12
    }
   ],
   "source": [
    "df.loc[0,'Reparto']"
   ]
  },
  {
   "source": [
    "#### Convertimos las columnas \"Director/es\", \"Género/s\" y \"Reparto\" a lista"
   ],
   "cell_type": "markdown",
   "metadata": {}
  },
  {
   "cell_type": "code",
   "execution_count": 13,
   "metadata": {},
   "outputs": [],
   "source": [
    "df['Director/es'] = df['Director/es'].apply(lambda x: eval(x))"
   ]
  },
  {
   "cell_type": "code",
   "execution_count": 14,
   "metadata": {},
   "outputs": [],
   "source": [
    "df['Género/s'] = df['Género/s'].apply(lambda x: eval(x))"
   ]
  },
  {
   "cell_type": "code",
   "execution_count": 15,
   "metadata": {},
   "outputs": [],
   "source": [
    "df['Reparto'] = df['Reparto'].apply(lambda x: eval(x))"
   ]
  },
  {
   "cell_type": "code",
   "execution_count": 21,
   "metadata": {},
   "outputs": [
    {
     "output_type": "execute_result",
     "data": {
      "text/plain": [
       "list"
      ]
     },
     "metadata": {},
     "execution_count": 21
    }
   ],
   "source": [
    "type(df.loc[0,'Reparto'])"
   ]
  },
  {
   "source": [
    "#### Reseteamos el índice para poder asignar ese índice al id de la película"
   ],
   "cell_type": "markdown",
   "metadata": {}
  },
  {
   "cell_type": "code",
   "execution_count": 23,
   "metadata": {},
   "outputs": [],
   "source": [
    "df.reset_index(inplace=True)"
   ]
  },
  {
   "cell_type": "code",
   "execution_count": 24,
   "metadata": {},
   "outputs": [],
   "source": [
    "df.rename(columns={\n",
    "    'index':'id_peli',\n",
    "    'Título':'titulo',\n",
    "    'Año':'año',\n",
    "    'Director/es':'direccion',\n",
    "    'Reparto':'actor',\n",
    "    'Género/s':'genero',\n",
    "    'País':'pais',\n",
    "    'Puntuación':'puntuacion',\n",
    "    'Nº votos':'votos',\n",
    "    'Tipo': 'tipo'\n",
    "}, inplace=True)"
   ]
  },
  {
   "cell_type": "code",
   "execution_count": 27,
   "metadata": {},
   "outputs": [
    {
     "output_type": "execute_result",
     "data": {
      "text/plain": [
       "Index(['id_peli', 'titulo', 'año', 'direccion', 'actor', 'genero', 'pais',\n",
       "       'puntuacion', 'votos', 'tipo'],\n",
       "      dtype='object')"
      ]
     },
     "metadata": {},
     "execution_count": 27
    }
   ],
   "source": [
    "df.columns"
   ]
  },
  {
   "source": [
    "## DataFrame: Películas"
   ],
   "cell_type": "markdown",
   "metadata": {}
  },
  {
   "cell_type": "code",
   "execution_count": 29,
   "metadata": {},
   "outputs": [],
   "source": [
    "df_pelis = df[['id_peli', 'titulo', 'año', 'pais', 'tipo', 'puntuacion', 'votos']]"
   ]
  },
  {
   "cell_type": "code",
   "execution_count": 30,
   "metadata": {},
   "outputs": [
    {
     "output_type": "execute_result",
     "data": {
      "text/plain": [
       "   id_peli                                  titulo   año            pais  \\\n",
       "0        0                         Fahrenheit 9/11  2004  Estados Unidos   \n",
       "1        1  La noche más oscura (Zero Dark Thirty)  2012  Estados Unidos   \n",
       "2        2                         La última noche  2002  Estados Unidos   \n",
       "3        3                    Zeitgeist: The Movie  2007  Estados Unidos   \n",
       "4        4                    United 93 (Vuelo 93)  2006  Estados Unidos   \n",
       "\n",
       "       tipo  puntuacion  votos  \n",
       "0  Película        6.99  69775  \n",
       "1  Película        6.79  36704  \n",
       "2  Película        7.49  33793  \n",
       "3  Película        7.36  21808  \n",
       "4  Película        6.70  19146  "
      ],
      "text/html": "<div>\n<style scoped>\n    .dataframe tbody tr th:only-of-type {\n        vertical-align: middle;\n    }\n\n    .dataframe tbody tr th {\n        vertical-align: top;\n    }\n\n    .dataframe thead th {\n        text-align: right;\n    }\n</style>\n<table border=\"1\" class=\"dataframe\">\n  <thead>\n    <tr style=\"text-align: right;\">\n      <th></th>\n      <th>id_peli</th>\n      <th>titulo</th>\n      <th>año</th>\n      <th>pais</th>\n      <th>tipo</th>\n      <th>puntuacion</th>\n      <th>votos</th>\n    </tr>\n  </thead>\n  <tbody>\n    <tr>\n      <th>0</th>\n      <td>0</td>\n      <td>Fahrenheit 9/11</td>\n      <td>2004</td>\n      <td>Estados Unidos</td>\n      <td>Película</td>\n      <td>6.99</td>\n      <td>69775</td>\n    </tr>\n    <tr>\n      <th>1</th>\n      <td>1</td>\n      <td>La noche más oscura (Zero Dark Thirty)</td>\n      <td>2012</td>\n      <td>Estados Unidos</td>\n      <td>Película</td>\n      <td>6.79</td>\n      <td>36704</td>\n    </tr>\n    <tr>\n      <th>2</th>\n      <td>2</td>\n      <td>La última noche</td>\n      <td>2002</td>\n      <td>Estados Unidos</td>\n      <td>Película</td>\n      <td>7.49</td>\n      <td>33793</td>\n    </tr>\n    <tr>\n      <th>3</th>\n      <td>3</td>\n      <td>Zeitgeist: The Movie</td>\n      <td>2007</td>\n      <td>Estados Unidos</td>\n      <td>Película</td>\n      <td>7.36</td>\n      <td>21808</td>\n    </tr>\n    <tr>\n      <th>4</th>\n      <td>4</td>\n      <td>United 93 (Vuelo 93)</td>\n      <td>2006</td>\n      <td>Estados Unidos</td>\n      <td>Película</td>\n      <td>6.70</td>\n      <td>19146</td>\n    </tr>\n  </tbody>\n</table>\n</div>"
     },
     "metadata": {},
     "execution_count": 30
    }
   ],
   "source": [
    "df_pelis.head()"
   ]
  },
  {
   "source": [
    "## DataFrame: Dirección"
   ],
   "cell_type": "markdown",
   "metadata": {}
  },
  {
   "cell_type": "code",
   "execution_count": 31,
   "metadata": {},
   "outputs": [],
   "source": [
    "df_dir = df.explode('direccion')[['direccion']].drop_duplicates()"
   ]
  },
  {
   "cell_type": "code",
   "execution_count": 32,
   "metadata": {},
   "outputs": [],
   "source": [
    "df_dir.reset_index(inplace=True)"
   ]
  },
  {
   "cell_type": "code",
   "execution_count": 33,
   "metadata": {},
   "outputs": [],
   "source": [
    "df_dir.drop(columns='index', inplace=True)"
   ]
  },
  {
   "cell_type": "code",
   "execution_count": 34,
   "metadata": {},
   "outputs": [],
   "source": [
    "df_dir.reset_index(inplace=True)"
   ]
  },
  {
   "cell_type": "code",
   "execution_count": 35,
   "metadata": {},
   "outputs": [],
   "source": [
    "df_dir.rename(columns={'index':'id_dir'}, inplace=True)"
   ]
  },
  {
   "cell_type": "code",
   "execution_count": 36,
   "metadata": {},
   "outputs": [
    {
     "output_type": "execute_result",
     "data": {
      "text/plain": [
       "   id_dir        direccion\n",
       "0       0    Michael Moore\n",
       "1       1  Kathryn Bigelow\n",
       "2       2        Spike Lee\n",
       "3       3     Peter Joseph\n",
       "4       4  Paul Greengrass"
      ],
      "text/html": "<div>\n<style scoped>\n    .dataframe tbody tr th:only-of-type {\n        vertical-align: middle;\n    }\n\n    .dataframe tbody tr th {\n        vertical-align: top;\n    }\n\n    .dataframe thead th {\n        text-align: right;\n    }\n</style>\n<table border=\"1\" class=\"dataframe\">\n  <thead>\n    <tr style=\"text-align: right;\">\n      <th></th>\n      <th>id_dir</th>\n      <th>direccion</th>\n    </tr>\n  </thead>\n  <tbody>\n    <tr>\n      <th>0</th>\n      <td>0</td>\n      <td>Michael Moore</td>\n    </tr>\n    <tr>\n      <th>1</th>\n      <td>1</td>\n      <td>Kathryn Bigelow</td>\n    </tr>\n    <tr>\n      <th>2</th>\n      <td>2</td>\n      <td>Spike Lee</td>\n    </tr>\n    <tr>\n      <th>3</th>\n      <td>3</td>\n      <td>Peter Joseph</td>\n    </tr>\n    <tr>\n      <th>4</th>\n      <td>4</td>\n      <td>Paul Greengrass</td>\n    </tr>\n  </tbody>\n</table>\n</div>"
     },
     "metadata": {},
     "execution_count": 36
    }
   ],
   "source": [
    "df_dir.head()"
   ]
  },
  {
   "source": [
    "## DataFrame: Actores"
   ],
   "cell_type": "markdown",
   "metadata": {}
  },
  {
   "cell_type": "code",
   "execution_count": 37,
   "metadata": {},
   "outputs": [],
   "source": [
    "df_act = df.explode('actor')[['actor']].drop_duplicates()"
   ]
  },
  {
   "cell_type": "code",
   "execution_count": 38,
   "metadata": {},
   "outputs": [],
   "source": [
    "df_act.reset_index(inplace=True)"
   ]
  },
  {
   "cell_type": "code",
   "execution_count": 39,
   "metadata": {},
   "outputs": [],
   "source": [
    "df_act.drop(columns='index', inplace=True)"
   ]
  },
  {
   "cell_type": "code",
   "execution_count": 40,
   "metadata": {},
   "outputs": [],
   "source": [
    "df_act.reset_index(inplace=True)"
   ]
  },
  {
   "cell_type": "code",
   "execution_count": 41,
   "metadata": {},
   "outputs": [],
   "source": [
    "df_act.rename(columns={'index':'id_act'}, inplace=True)"
   ]
  },
  {
   "cell_type": "code",
   "execution_count": 42,
   "metadata": {},
   "outputs": [
    {
     "output_type": "execute_result",
     "data": {
      "text/plain": [
       "   id_act             actor\n",
       "0       0        Documental\n",
       "1       1  Jessica Chastain\n",
       "2       2     Joel Edgerton\n",
       "3       3     Taylor Kinney\n",
       "4       4     Kyle Chandler"
      ],
      "text/html": "<div>\n<style scoped>\n    .dataframe tbody tr th:only-of-type {\n        vertical-align: middle;\n    }\n\n    .dataframe tbody tr th {\n        vertical-align: top;\n    }\n\n    .dataframe thead th {\n        text-align: right;\n    }\n</style>\n<table border=\"1\" class=\"dataframe\">\n  <thead>\n    <tr style=\"text-align: right;\">\n      <th></th>\n      <th>id_act</th>\n      <th>actor</th>\n    </tr>\n  </thead>\n  <tbody>\n    <tr>\n      <th>0</th>\n      <td>0</td>\n      <td>Documental</td>\n    </tr>\n    <tr>\n      <th>1</th>\n      <td>1</td>\n      <td>Jessica Chastain</td>\n    </tr>\n    <tr>\n      <th>2</th>\n      <td>2</td>\n      <td>Joel Edgerton</td>\n    </tr>\n    <tr>\n      <th>3</th>\n      <td>3</td>\n      <td>Taylor Kinney</td>\n    </tr>\n    <tr>\n      <th>4</th>\n      <td>4</td>\n      <td>Kyle Chandler</td>\n    </tr>\n  </tbody>\n</table>\n</div>"
     },
     "metadata": {},
     "execution_count": 42
    }
   ],
   "source": [
    "df_act.head()"
   ]
  },
  {
   "source": [
    "## DataFrame: Género"
   ],
   "cell_type": "markdown",
   "metadata": {}
  },
  {
   "cell_type": "code",
   "execution_count": 43,
   "metadata": {},
   "outputs": [],
   "source": [
    "df_gen = df.explode('genero')[['genero']].drop_duplicates()"
   ]
  },
  {
   "cell_type": "code",
   "execution_count": 44,
   "metadata": {},
   "outputs": [],
   "source": [
    "df_gen.reset_index(inplace=True)"
   ]
  },
  {
   "cell_type": "code",
   "execution_count": 45,
   "metadata": {},
   "outputs": [],
   "source": [
    "df_gen.drop(columns='index', inplace=True)"
   ]
  },
  {
   "cell_type": "code",
   "execution_count": 46,
   "metadata": {},
   "outputs": [],
   "source": [
    "df_gen.reset_index(inplace=True)"
   ]
  },
  {
   "cell_type": "code",
   "execution_count": 47,
   "metadata": {},
   "outputs": [],
   "source": [
    "df_gen.rename(columns={'index':'id_gen'}, inplace=True)"
   ]
  },
  {
   "cell_type": "code",
   "execution_count": 48,
   "metadata": {},
   "outputs": [
    {
     "output_type": "execute_result",
     "data": {
      "text/plain": [
       "   id_gen          genero\n",
       "0       0      Documental\n",
       "1       1            11-S\n",
       "2       2  Guerra de Iraq\n",
       "3       3        Thriller\n",
       "4       4          Acción"
      ],
      "text/html": "<div>\n<style scoped>\n    .dataframe tbody tr th:only-of-type {\n        vertical-align: middle;\n    }\n\n    .dataframe tbody tr th {\n        vertical-align: top;\n    }\n\n    .dataframe thead th {\n        text-align: right;\n    }\n</style>\n<table border=\"1\" class=\"dataframe\">\n  <thead>\n    <tr style=\"text-align: right;\">\n      <th></th>\n      <th>id_gen</th>\n      <th>genero</th>\n    </tr>\n  </thead>\n  <tbody>\n    <tr>\n      <th>0</th>\n      <td>0</td>\n      <td>Documental</td>\n    </tr>\n    <tr>\n      <th>1</th>\n      <td>1</td>\n      <td>11-S</td>\n    </tr>\n    <tr>\n      <th>2</th>\n      <td>2</td>\n      <td>Guerra de Iraq</td>\n    </tr>\n    <tr>\n      <th>3</th>\n      <td>3</td>\n      <td>Thriller</td>\n    </tr>\n    <tr>\n      <th>4</th>\n      <td>4</td>\n      <td>Acción</td>\n    </tr>\n  </tbody>\n</table>\n</div>"
     },
     "metadata": {},
     "execution_count": 48
    }
   ],
   "source": [
    "df_gen.head()"
   ]
  },
  {
   "source": [
    "## DataFrame: Películas - Dirección"
   ],
   "cell_type": "markdown",
   "metadata": {}
  },
  {
   "cell_type": "code",
   "execution_count": 49,
   "metadata": {},
   "outputs": [],
   "source": [
    "peli_dir = pd.merge(df.explode('direccion'), df_dir, on='direccion', how='inner')[['id_peli','id_dir']]"
   ]
  },
  {
   "cell_type": "code",
   "execution_count": 50,
   "metadata": {},
   "outputs": [
    {
     "output_type": "execute_result",
     "data": {
      "text/plain": [
       "   id_peli  id_dir\n",
       "0        0       0\n",
       "1     2075       0\n",
       "2     7476       0\n",
       "3        1       1\n",
       "4     2523       1"
      ],
      "text/html": "<div>\n<style scoped>\n    .dataframe tbody tr th:only-of-type {\n        vertical-align: middle;\n    }\n\n    .dataframe tbody tr th {\n        vertical-align: top;\n    }\n\n    .dataframe thead th {\n        text-align: right;\n    }\n</style>\n<table border=\"1\" class=\"dataframe\">\n  <thead>\n    <tr style=\"text-align: right;\">\n      <th></th>\n      <th>id_peli</th>\n      <th>id_dir</th>\n    </tr>\n  </thead>\n  <tbody>\n    <tr>\n      <th>0</th>\n      <td>0</td>\n      <td>0</td>\n    </tr>\n    <tr>\n      <th>1</th>\n      <td>2075</td>\n      <td>0</td>\n    </tr>\n    <tr>\n      <th>2</th>\n      <td>7476</td>\n      <td>0</td>\n    </tr>\n    <tr>\n      <th>3</th>\n      <td>1</td>\n      <td>1</td>\n    </tr>\n    <tr>\n      <th>4</th>\n      <td>2523</td>\n      <td>1</td>\n    </tr>\n  </tbody>\n</table>\n</div>"
     },
     "metadata": {},
     "execution_count": 50
    }
   ],
   "source": [
    "peli_dir.head()"
   ]
  },
  {
   "source": [
    "## DataFrame: Películas - Actores"
   ],
   "cell_type": "markdown",
   "metadata": {}
  },
  {
   "cell_type": "code",
   "execution_count": 51,
   "metadata": {},
   "outputs": [],
   "source": [
    "peli_act = pd.merge(df.explode('actor'), df_act, on='actor', how='inner')[['id_peli','id_act']]"
   ]
  },
  {
   "cell_type": "code",
   "execution_count": 52,
   "metadata": {},
   "outputs": [
    {
     "output_type": "execute_result",
     "data": {
      "text/plain": [
       "   id_peli  id_act\n",
       "0        0       0\n",
       "1        3       0\n",
       "2       10       0\n",
       "3       13       0\n",
       "4       14       0"
      ],
      "text/html": "<div>\n<style scoped>\n    .dataframe tbody tr th:only-of-type {\n        vertical-align: middle;\n    }\n\n    .dataframe tbody tr th {\n        vertical-align: top;\n    }\n\n    .dataframe thead th {\n        text-align: right;\n    }\n</style>\n<table border=\"1\" class=\"dataframe\">\n  <thead>\n    <tr style=\"text-align: right;\">\n      <th></th>\n      <th>id_peli</th>\n      <th>id_act</th>\n    </tr>\n  </thead>\n  <tbody>\n    <tr>\n      <th>0</th>\n      <td>0</td>\n      <td>0</td>\n    </tr>\n    <tr>\n      <th>1</th>\n      <td>3</td>\n      <td>0</td>\n    </tr>\n    <tr>\n      <th>2</th>\n      <td>10</td>\n      <td>0</td>\n    </tr>\n    <tr>\n      <th>3</th>\n      <td>13</td>\n      <td>0</td>\n    </tr>\n    <tr>\n      <th>4</th>\n      <td>14</td>\n      <td>0</td>\n    </tr>\n  </tbody>\n</table>\n</div>"
     },
     "metadata": {},
     "execution_count": 52
    }
   ],
   "source": [
    "peli_act.head()"
   ]
  },
  {
   "source": [
    "## DataFrame: Películas - Género"
   ],
   "cell_type": "markdown",
   "metadata": {}
  },
  {
   "cell_type": "code",
   "execution_count": 53,
   "metadata": {},
   "outputs": [],
   "source": [
    "peli_gen = pd.merge(df.explode('genero'), df_gen, on='genero', how='inner')[['id_peli','id_gen']]"
   ]
  },
  {
   "cell_type": "code",
   "execution_count": 54,
   "metadata": {},
   "outputs": [
    {
     "output_type": "execute_result",
     "data": {
      "text/plain": [
       "   id_peli  id_gen\n",
       "0        0       0\n",
       "1        3       0\n",
       "2       10       0\n",
       "3       13       0\n",
       "4       14       0"
      ],
      "text/html": "<div>\n<style scoped>\n    .dataframe tbody tr th:only-of-type {\n        vertical-align: middle;\n    }\n\n    .dataframe tbody tr th {\n        vertical-align: top;\n    }\n\n    .dataframe thead th {\n        text-align: right;\n    }\n</style>\n<table border=\"1\" class=\"dataframe\">\n  <thead>\n    <tr style=\"text-align: right;\">\n      <th></th>\n      <th>id_peli</th>\n      <th>id_gen</th>\n    </tr>\n  </thead>\n  <tbody>\n    <tr>\n      <th>0</th>\n      <td>0</td>\n      <td>0</td>\n    </tr>\n    <tr>\n      <th>1</th>\n      <td>3</td>\n      <td>0</td>\n    </tr>\n    <tr>\n      <th>2</th>\n      <td>10</td>\n      <td>0</td>\n    </tr>\n    <tr>\n      <th>3</th>\n      <td>13</td>\n      <td>0</td>\n    </tr>\n    <tr>\n      <th>4</th>\n      <td>14</td>\n      <td>0</td>\n    </tr>\n  </tbody>\n</table>\n</div>"
     },
     "metadata": {},
     "execution_count": 54
    }
   ],
   "source": [
    "peli_gen.head()"
   ]
  },
  {
   "source": [
    "## Export a csv"
   ],
   "cell_type": "markdown",
   "metadata": {}
  },
  {
   "cell_type": "code",
   "execution_count": 55,
   "metadata": {},
   "outputs": [],
   "source": [
    "df_pelis.to_csv('1-pelis.csv', index=False)"
   ]
  },
  {
   "cell_type": "code",
   "execution_count": 56,
   "metadata": {},
   "outputs": [],
   "source": [
    "df_dir.to_csv('2-direccion.csv', index=False)"
   ]
  },
  {
   "cell_type": "code",
   "execution_count": 57,
   "metadata": {},
   "outputs": [],
   "source": [
    "df_act.to_csv('3-actores.csv', index=False)"
   ]
  },
  {
   "cell_type": "code",
   "execution_count": 58,
   "metadata": {},
   "outputs": [],
   "source": [
    "df_gen.to_csv('4-genero.csv', index=False)"
   ]
  },
  {
   "cell_type": "code",
   "execution_count": 61,
   "metadata": {},
   "outputs": [],
   "source": [
    "peli_dir.to_csv('5-pelis-direccion.csv', index=False)"
   ]
  },
  {
   "cell_type": "code",
   "execution_count": 60,
   "metadata": {},
   "outputs": [],
   "source": [
    "peli_act.to_csv('6-pelis-actores.csv', index=False)"
   ]
  },
  {
   "cell_type": "code",
   "execution_count": 62,
   "metadata": {},
   "outputs": [],
   "source": [
    "peli_gen.to_csv('7-pelis-genero.csv', index=False)"
   ]
  },
  {
   "source": [
    "# SQL"
   ],
   "cell_type": "markdown",
   "metadata": {}
  },
  {
   "cell_type": "code",
   "execution_count": 63,
   "metadata": {},
   "outputs": [],
   "source": [
    "%load_ext sql"
   ]
  },
  {
   "cell_type": "code",
   "execution_count": 64,
   "metadata": {},
   "outputs": [
    {
     "output_type": "execute_result",
     "data": {
      "text/plain": [
       "'Connected: @movies.db'"
      ]
     },
     "metadata": {},
     "execution_count": 64
    }
   ],
   "source": [
    "%sql sqlite:///movies.db"
   ]
  },
  {
   "cell_type": "code",
   "execution_count": 65,
   "metadata": {},
   "outputs": [],
   "source": [
    "db_url = 'sqlite:///movies.db'"
   ]
  },
  {
   "cell_type": "code",
   "execution_count": 74,
   "metadata": {},
   "outputs": [
    {
     "output_type": "stream",
     "name": "stdout",
     "text": [
      " * sqlite:///movies.db\nDone.\n"
     ]
    },
    {
     "output_type": "execute_result",
     "data": {
      "text/plain": [
       "[('Pelis',),\n",
       " ('Direccion',),\n",
       " ('Genero',),\n",
       " ('Actores',),\n",
       " ('Pelis-Direccion',),\n",
       " ('Pelis-Genero',),\n",
       " ('Pelis-Actores',)]"
      ],
      "text/html": "<table>\n    <thead>\n        <tr>\n            <th>tbl_name</th>\n        </tr>\n    </thead>\n    <tbody>\n        <tr>\n            <td>Pelis</td>\n        </tr>\n        <tr>\n            <td>Direccion</td>\n        </tr>\n        <tr>\n            <td>Genero</td>\n        </tr>\n        <tr>\n            <td>Actores</td>\n        </tr>\n        <tr>\n            <td>Pelis-Direccion</td>\n        </tr>\n        <tr>\n            <td>Pelis-Genero</td>\n        </tr>\n        <tr>\n            <td>Pelis-Actores</td>\n        </tr>\n    </tbody>\n</table>"
     },
     "metadata": {},
     "execution_count": 74
    }
   ],
   "source": [
    "%%sql\n",
    "SELECT tbl_name\n",
    "FROM sqlite_master\n",
    "WHERE type='table'"
   ]
  },
  {
   "cell_type": "code",
   "execution_count": 66,
   "metadata": {},
   "outputs": [],
   "source": [
    "df_pelis.to_sql('Pelis', db_url, if_exists='append', index=False)"
   ]
  },
  {
   "cell_type": "code",
   "execution_count": 67,
   "metadata": {},
   "outputs": [],
   "source": [
    "df_dir.to_sql('Direccion', db_url, if_exists='append', index=False)"
   ]
  },
  {
   "cell_type": "code",
   "execution_count": 69,
   "metadata": {},
   "outputs": [],
   "source": [
    "df_gen.to_sql('Genero', db_url, if_exists='append', index=False)"
   ]
  },
  {
   "cell_type": "code",
   "execution_count": 68,
   "metadata": {},
   "outputs": [],
   "source": [
    "df_act.to_sql('Actores', db_url, if_exists='append', index=False)"
   ]
  },
  {
   "cell_type": "code",
   "execution_count": 70,
   "metadata": {},
   "outputs": [],
   "source": [
    "peli_dir.to_sql('Pelis-Direccion', db_url, if_exists='append', index=False)"
   ]
  },
  {
   "cell_type": "code",
   "execution_count": 72,
   "metadata": {},
   "outputs": [],
   "source": [
    "peli_gen.to_sql('Pelis-Genero', db_url, if_exists='append', index=False)"
   ]
  },
  {
   "cell_type": "code",
   "execution_count": 71,
   "metadata": {},
   "outputs": [],
   "source": [
    "peli_act.to_sql('Pelis-Actores', db_url, if_exists='append', index=False)"
   ]
  },
  {
   "source": [
    "# 1. País con más producción de películas\n",
    "**Visualización**: mapa. Cuando pasamos el cursor por encima, muestra las películas más valoradas de ese país.\n",
    "\n",
    "Bases de datos necesarias: _Pelis_"
   ],
   "cell_type": "markdown",
   "metadata": {}
  },
  {
   "source": [
    "# 2. Géneros más populares por año\n",
    "**Visualización**: cuando pasamos el cursor por encima, muestra las películas más valoradas de ese género.\n",
    "\n",
    "Bases de datos necesarias: _Pelis, Genero, Pelis-Genero_"
   ],
   "cell_type": "markdown",
   "metadata": {}
  },
  {
   "source": [
    "# 3. Top 3 actores y directores mejor valorados\n",
    "**Visualización**: Por periodo de tiempo, top 3 actores y directores cuya puntuación media de las peliculas en las que han participado sea más alta\n",
    "\n",
    "Bases de datos necesarias: _Pelis, Direccion, Actores, Pelis-Direccion, Pelis-Actores_"
   ],
   "cell_type": "markdown",
   "metadata": {}
  }
 ],
 "metadata": {
  "kernelspec": {
   "name": "python385jvsc74a57bd0dca0ade3e726a953b501b15e8e990130d2b7799f14cfd9f4271676035ebe5511",
   "display_name": "Python 3.8.5 64-bit ('base': conda)"
  },
  "language_info": {
   "codemirror_mode": {
    "name": "ipython",
    "version": 3
   },
   "file_extension": ".py",
   "mimetype": "text/x-python",
   "name": "python",
   "nbconvert_exporter": "python",
   "pygments_lexer": "ipython3",
   "version": "3.8.5"
  },
  "toc": {
   "base_numbering": 1,
   "nav_menu": {},
   "number_sections": true,
   "sideBar": true,
   "skip_h1_title": false,
   "title_cell": "Table of Contents",
   "title_sidebar": "Contents",
   "toc_cell": false,
   "toc_position": {},
   "toc_section_display": true,
   "toc_window_display": false
  },
  "varInspector": {
   "cols": {
    "lenName": 16,
    "lenType": 16,
    "lenVar": 40
   },
   "kernels_config": {
    "python": {
     "delete_cmd_postfix": "",
     "delete_cmd_prefix": "del ",
     "library": "var_list.py",
     "varRefreshCmd": "print(var_dic_list())"
    },
    "r": {
     "delete_cmd_postfix": ") ",
     "delete_cmd_prefix": "rm(",
     "library": "var_list.r",
     "varRefreshCmd": "cat(var_dic_list()) "
    }
   },
   "types_to_exclude": [
    "module",
    "function",
    "builtin_function_or_method",
    "instance",
    "_Feature"
   ],
   "window_display": false
  }
 },
 "nbformat": 4,
 "nbformat_minor": 4
}